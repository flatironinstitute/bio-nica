{
 "cells": [
  {
   "cell_type": "markdown",
   "metadata": {},
   "source": [
    "# Comparison of online NICA algorithms on synthetic sparse uniform sources"
   ]
  },
  {
   "cell_type": "markdown",
   "metadata": {},
   "source": [
    "### Imports"
   ]
  },
  {
   "cell_type": "code",
   "execution_count": 1,
   "metadata": {},
   "outputs": [],
   "source": [
    "import numpy as np\n",
    "import matplotlib.pyplot as plt\n",
    "\n",
    "from nica_algorithms import bio_nica_direct, bio_nica_indirect, two_layer_nsm, nonnegative_pca\n",
    "from util import permutation_error, add_fill_lines"
   ]
  },
  {
   "cell_type": "markdown",
   "metadata": {},
   "source": [
    "### Load desired dataset"
   ]
  },
  {
   "cell_type": "code",
   "execution_count": 2,
   "metadata": {},
   "outputs": [],
   "source": [
    "# dataset = '3-dim_synthetic'\n",
    "dataset = '10-dim_synthetic'\n",
    "\n",
    "S = np.load(f'datasets/{dataset}/sources.npy')\n",
    "X = np.load(f'datasets/{dataset}/mixtures.npy')\n",
    "\n",
    "s_dim = S.shape[0]\n",
    "x_dim = X.shape[0]\n",
    "samples = S.shape[1]"
   ]
  },
  {
   "cell_type": "markdown",
   "metadata": {},
   "source": [
    "### Online algorithms"
   ]
  },
  {
   "cell_type": "code",
   "execution_count": 3,
   "metadata": {},
   "outputs": [],
   "source": [
    "trials = 10 # set the number of trials\n",
    "\n",
    "bionica_indirect_err = np.zeros((trials,samples))\n",
    "bionica_direct_err = np.zeros((trials,samples))\n",
    "nsm_err = np.zeros((trials,samples))\n",
    "npca_err = np.zeros((trials,samples))"
   ]
  },
  {
   "cell_type": "code",
   "execution_count": 4,
   "metadata": {},
   "outputs": [
    {
     "name": "stdout",
     "output_type": "stream",
     "text": [
      "Trial 1 of out 10:\n",
      "Running online algorithms...\n",
      "Computing errors...\n",
      "Final Bio-NICA (indirect) permutation error: 0.2887275684529725\n",
      "Final Bio-NICA (direct) permutation error: 0.07646266663569459\n",
      "Final 2-layer NSM permutation error: 0.029192539703385423\n",
      "Final Nonnegative PCA permutation error: 0.011221592249146558\n",
      "Trial 2 of out 10:\n",
      "Running online algorithms...\n",
      "Computing errors...\n",
      "Final Bio-NICA (indirect) permutation error: 0.4747572127138434\n",
      "Final Bio-NICA (direct) permutation error: 0.09591536432333184\n",
      "Final 2-layer NSM permutation error: 0.014199851921596255\n",
      "Final Nonnegative PCA permutation error: 0.0077457987708346235\n",
      "Trial 3 of out 10:\n",
      "Running online algorithms...\n",
      "Computing errors...\n",
      "Final Bio-NICA (indirect) permutation error: 0.07294042643215887\n",
      "Final Bio-NICA (direct) permutation error: 0.0974636041851262\n",
      "Final 2-layer NSM permutation error: 0.011512424654716526\n",
      "Final Nonnegative PCA permutation error: 0.013786005384438497\n",
      "Trial 4 of out 10:\n",
      "Running online algorithms...\n",
      "Computing errors...\n",
      "Final Bio-NICA (indirect) permutation error: 0.08918837832576111\n",
      "Final Bio-NICA (direct) permutation error: 0.15180814335255124\n",
      "Final 2-layer NSM permutation error: 0.011747512516333904\n",
      "Final Nonnegative PCA permutation error: 0.009318240381597493\n",
      "Trial 5 of out 10:\n",
      "Running online algorithms...\n",
      "Computing errors...\n",
      "Final Bio-NICA (indirect) permutation error: 0.10992963560023265\n",
      "Final Bio-NICA (direct) permutation error: 0.11057175153436498\n",
      "Final 2-layer NSM permutation error: 0.00688588319218129\n",
      "Final Nonnegative PCA permutation error: 0.016201879213607804\n",
      "Trial 6 of out 10:\n",
      "Running online algorithms...\n",
      "Computing errors...\n",
      "Final Bio-NICA (indirect) permutation error: 0.33862797942857153\n",
      "Final Bio-NICA (direct) permutation error: 0.11375106522636377\n",
      "Final 2-layer NSM permutation error: 0.012604003215570822\n",
      "Final Nonnegative PCA permutation error: 0.19734617413571762\n",
      "Trial 7 of out 10:\n",
      "Running online algorithms...\n",
      "Computing errors...\n",
      "Final Bio-NICA (indirect) permutation error: 0.4789611661989947\n",
      "Final Bio-NICA (direct) permutation error: 0.11887455914862205\n",
      "Final 2-layer NSM permutation error: 0.00858845614962489\n",
      "Final Nonnegative PCA permutation error: 0.010977752844092309\n",
      "Trial 8 of out 10:\n",
      "Running online algorithms...\n",
      "Computing errors...\n",
      "Final Bio-NICA (indirect) permutation error: 0.32211939144811247\n",
      "Final Bio-NICA (direct) permutation error: 0.12797840982244546\n",
      "Final 2-layer NSM permutation error: 0.06425883076567622\n",
      "Final Nonnegative PCA permutation error: 0.008356497200299472\n",
      "Trial 9 of out 10:\n",
      "Running online algorithms...\n",
      "Computing errors...\n",
      "Final Bio-NICA (indirect) permutation error: 0.06928836829569132\n",
      "Final Bio-NICA (direct) permutation error: 0.13909103736402031\n",
      "Final 2-layer NSM permutation error: 0.0057366486272516955\n",
      "Final Nonnegative PCA permutation error: 0.011793696709498062\n",
      "Trial 10 of out 10:\n",
      "Running online algorithms...\n",
      "Computing errors...\n",
      "Final Bio-NICA (indirect) permutation error: 0.6450916764870834\n",
      "Final Bio-NICA (direct) permutation error: 0.11471214916283594\n",
      "Final 2-layer NSM permutation error: 0.0034048363766088765\n",
      "Final Nonnegative PCA permutation error: 0.008233549984891987\n"
     ]
    }
   ],
   "source": [
    "for i_trial in range(trials):\n",
    "    \n",
    "    print(f'Trial {i_trial+1} of out {trials}:')\n",
    "    \n",
    "    # Random permutation of the mixtures\n",
    "\n",
    "    idx = np.random.permutation(samples)\n",
    "    \n",
    "    # Noncentered whitening for Nonnegative PCA\n",
    "\n",
    "    sig, U = np.linalg.eig(np.cov(X))\n",
    "\n",
    "    X_white = U@np.diag(1./np.sqrt(sig))@U.T@X\n",
    "    \n",
    "    n_dim = s_dim\n",
    "    \n",
    "    bionica_indirect = bio_nica_indirect(s_dim, x_dim, n_dim, dataset)\n",
    "    bionica_direct = bio_nica_direct(s_dim, x_dim, dataset)\n",
    "    nsm = two_layer_nsm(s_dim, x_dim, dataset)\n",
    "    npca = nonnegative_pca(s_dim, x_dim, dataset)\n",
    "    \n",
    "    bionica_direct_Y = np.zeros((s_dim,samples))\n",
    "    bionica_indirect_Y = np.zeros((s_dim,samples))\n",
    "    nsm_Y = np.zeros((s_dim,samples))\n",
    "    npca_Y = np.zeros((s_dim,samples))\n",
    "    \n",
    "    print('Running online algorithms...')\n",
    "    \n",
    "    for i_sample in range(samples):\n",
    "\n",
    "        x = X[:,idx[i_sample]]\n",
    "        x_white = X_white[:,idx[i_sample]]\n",
    "        \n",
    "        bionica_indirect_Y[:,i_sample] = bionica_indirect.fit_next(x)\n",
    "        bionica_direct_Y[:,i_sample] = bionica_direct.fit_next(x)\n",
    "        nsm_Y[:,i_sample] = nsm.fit_next(x)\n",
    "        npca_Y[:,i_sample] = npca.fit_next(x_white)\n",
    "        \n",
    "        # if a neuron hasn't fired by the 100th iteration, we flip the feedforward weights:\n",
    "        \n",
    "        if i_sample==100:\n",
    "            for j in range(s_dim):\n",
    "                if bionica_indirect_Y[j,0:i_sample].sum()==0:\n",
    "                    bionica_indirect.flip_weights(j)\n",
    "                if bionica_direct_Y[j,0:i_sample].sum()==0:\n",
    "                    bionica_direct.flip_weights(j)\n",
    "                if nsm_Y[j,0:i_sample].sum()==0:\n",
    "                    nsm.flip_weights(j)\n",
    "                if npca_Y[j,0:i_sample].sum()==0:\n",
    "                    npca.flip_weights(j)\n",
    "        \n",
    "    print('Computing errors...')\n",
    "\n",
    "    bionica_indirect_err[i_trial,:] = permutation_error(S[:,idx],bionica_indirect_Y)\n",
    "    bionica_direct_err[i_trial,:] = permutation_error(S[:,idx],bionica_direct_Y)\n",
    "    nsm_err[i_trial,:] = permutation_error(S[:,idx],nsm_Y)\n",
    "    npca_err[i_trial,:] = permutation_error(S[:,idx],npca_Y)\n",
    "\n",
    "    print(f'Final Bio-NICA (indirect) permutation error: {bionica_indirect_err[i_trial,-1]}')\n",
    "    print(f'Final Bio-NICA (direct) permutation error: {bionica_direct_err[i_trial,-1]}')\n",
    "    print(f'Final 2-layer NSM permutation error: {nsm_err[i_trial,-1]}')\n",
    "    print(f'Final Nonnegative PCA permutation error: {npca_err[i_trial,-1]}')"
   ]
  },
  {
   "cell_type": "markdown",
   "metadata": {},
   "source": [
    "### Comparison plots"
   ]
  },
  {
   "cell_type": "code",
   "execution_count": 6,
   "metadata": {},
   "outputs": [
    {
     "data": {
      "image/png": "[encoded data removed]",
      "text/plain": [
       "<Figure size 360x360 with 1 Axes>"
      ]
     },
     "metadata": {
      "needs_background": "light"
     },
     "output_type": "display_data"
    }
   ],
   "source": [
    "linewidth = 3\n",
    "\n",
    "t = list(range(samples))\n",
    "\n",
    "fig = plt.figure(figsize=(5,5))\n",
    "\n",
    "ax = plt.subplot(1, 1, 1)\n",
    "\n",
    "add_fill_lines(ax, t, bionica_indirect_err, plot_kwargs={'ls': '-', 'lw': linewidth, 'label': 'Bio-NICA (indirect)'})\n",
    "add_fill_lines(ax, t, bionica_direct_err, plot_kwargs={'ls': '--', 'lw': linewidth, 'label': 'Bio-NICA (direct)'})\n",
    "add_fill_lines(ax, t, nsm_err, plot_kwargs={'ls': '-.', 'lw': linewidth, 'label': '2-layer NSM'})\n",
    "add_fill_lines(ax, t, npca_err, plot_kwargs={'ls': ':', 'lw': linewidth, 'label': 'Nonnegative PCA'})\n",
    "\n",
    "ax.loglog()\n",
    "\n",
    "plt.title(f\"{s_dim}-dimensional source data\")\n",
    "plt.grid()\n",
    "plt.legend(loc = 'lower left')\n",
    "plt.xlabel('Sample #')\n",
    "plt.ylabel('Permutation error')\n",
    "plt.xlim((10,samples))\n",
    "# plt.ylim(bottom=10**-4,)\n",
    "plt.ylim(10**-2.5,10**1)\n",
    "\n",
    "plt.savefig(f'plots/{dataset}.png', dpi=300, transparent='true', bbox_inches='tight')\n",
    "# plt.show()"
   ]
  },
  {
   "cell_type": "code",
   "execution_count": null,
   "metadata": {},
   "outputs": [],
   "source": []
  }
 ],
 "metadata": {
  "kernelspec": {
   "display_name": "Python 3",
   "language": "python",
   "name": "python3"
  },
  "language_info": {
   "codemirror_mode": {
    "name": "ipython",
    "version": 3
   },
   "file_extension": ".py",
   "mimetype": "text/x-python",
   "name": "python",
   "nbconvert_exporter": "python",
   "pygments_lexer": "ipython3",
   "version": "3.7.6"
  }
 },
 "nbformat": 4,
 "nbformat_minor": 4
}
