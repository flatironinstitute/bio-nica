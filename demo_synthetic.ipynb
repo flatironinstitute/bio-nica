{
 "cells": [
  {
   "cell_type": "markdown",
   "metadata": {},
   "source": [
    "# Comparison of online NICA algorithms on synthetic sparse uniform sources"
   ]
  },
  {
   "cell_type": "markdown",
   "metadata": {},
   "source": [
    "### Imports"
   ]
  },
  {
   "cell_type": "code",
   "execution_count": 5,
   "metadata": {},
   "outputs": [],
   "source": [
    "import numpy as np\n",
    "import matplotlib.pyplot as plt\n",
    "\n",
    "from nica_algorithms import bio_nica_direct, bio_nica_indirect, two_layer_nsm, nonnegative_pca\n",
    "from util import permutation_error, add_fill_lines"
   ]
  },
  {
   "cell_type": "markdown",
   "metadata": {},
   "source": [
    "### Load desired dataset"
   ]
  },
  {
   "cell_type": "code",
   "execution_count": 6,
   "metadata": {},
   "outputs": [],
   "source": [
    "dataset = '3-dim_synthetic'\n",
    "# dataset = '10-dim_synthetic'\n",
    "\n",
    "S = np.load(f'datasets/{dataset}/sources.npy')\n",
    "X = np.load(f'datasets/{dataset}/mixtures.npy')\n",
    "\n",
    "s_dim = S.shape[0]\n",
    "x_dim = X.shape[0]\n",
    "samples = S.shape[1]"
   ]
  },
  {
   "cell_type": "markdown",
   "metadata": {},
   "source": [
    "### Online algorithms"
   ]
  },
  {
   "cell_type": "code",
   "execution_count": 7,
   "metadata": {},
   "outputs": [],
   "source": [
    "trials = 1 # set the number of trials\n",
    "\n",
    "bionica_indirect_err = np.zeros((trials,samples))\n",
    "bionica_direct_err = np.zeros((trials,samples))\n",
    "nsm_err = np.zeros((trials,samples))\n",
    "npca_err = np.zeros((trials,samples))"
   ]
  },
  {
   "cell_type": "code",
   "execution_count": 23,
   "metadata": {},
   "outputs": [
    {
     "name": "stdout",
     "output_type": "stream",
     "text": [
      "Trial 1 of out 1:\n",
      "Running online algorithms...\n",
      "PP.T close to degenerate\n",
      "PP.T close to degenerate\n",
      "PP.T close to degenerate\n",
      "PP.T close to degenerate\n",
      "PP.T close to degenerate\n",
      "PP.T close to degenerate\n",
      "PP.T close to degenerate\n",
      "PP.T close to degenerate\n",
      "PP.T close to degenerate\n",
      "PP.T close to degenerate\n",
      "PP.T close to degenerate\n",
      "PP.T close to degenerate\n",
      "PP.T close to degenerate\n",
      "PP.T close to degenerate\n",
      "PP.T close to degenerate\n",
      "PP.T close to degenerate\n",
      "PP.T close to degenerate\n",
      "PP.T close to degenerate\n",
      "PP.T close to degenerate\n",
      "PP.T close to degenerate\n",
      "PP.T close to degenerate\n",
      "PP.T close to degenerate\n",
      "PP.T close to degenerate\n",
      "Computing errors...\n",
      "Final Bio-NICA (indirect) permutation error: 1.3906235143426384\n",
      "Final Bio-NICA (direct) permutation error: 0.027559837414870128\n",
      "Final 2-layer NSM permutation error: 0.038030891897274\n",
      "Final Nonnegative PCA permutation error: 0.07893823057132256\n"
     ]
    }
   ],
   "source": [
    "for i_trial in range(trials):\n",
    "    \n",
    "    print(f'Trial {i_trial+1} of out {trials}:')\n",
    "    \n",
    "    # Random permutation of the mixtures\n",
    "\n",
    "    idx = np.random.permutation(samples)\n",
    "    \n",
    "    # Noncentered whitening for Nonnegative PCA\n",
    "\n",
    "    sig, U = np.linalg.eig(np.cov(X))\n",
    "\n",
    "    X_white = U@np.diag(1./np.sqrt(sig))@U.T@X\n",
    "    \n",
    "    n_dim = s_dim\n",
    "    \n",
    "    eta = 1e-3\n",
    "    \n",
    "    bionica_indirect = bio_nica_indirect(s_dim, x_dim, n_dim, eta0=eta, decay=0)\n",
    "    bionica_direct = bio_nica_direct(s_dim, x_dim, eta0=eta, decay=0)\n",
    "    nsm = two_layer_nsm(s_dim, x_dim, eta0=eta, decay=0)\n",
    "    npca = nonnegative_pca(s_dim, x_dim, eta0=eta, decay=0)\n",
    "    \n",
    "    bionica_direct_Y = np.zeros((s_dim,samples))\n",
    "    bionica_indirect_Y = np.zeros((s_dim,samples))\n",
    "    nsm_Y = np.zeros((s_dim,samples))\n",
    "    npca_Y = np.zeros((s_dim,samples))\n",
    "    \n",
    "    print('Running online algorithms...')\n",
    "    \n",
    "    for i_sample in range(samples):\n",
    "\n",
    "        x = X[:,idx[i_sample]]\n",
    "        x_white = X_white[:,idx[i_sample]]\n",
    "        \n",
    "        bionica_indirect_Y[:,i_sample] = bionica_indirect.fit_next(x)\n",
    "        bionica_direct_Y[:,i_sample] = bionica_direct.fit_next(x)\n",
    "        nsm_Y[:,i_sample] = nsm.fit_next(x)\n",
    "        npca_Y[:,i_sample] = npca.fit_next(x_white)\n",
    "        \n",
    "        # if a neuron hasn't fired by the 100th iteration, we flip the feedforward weights:\n",
    "        \n",
    "        if i_sample==100:\n",
    "            for j in range(s_dim):\n",
    "                if bionica_indirect_Y[j,0:i_sample].sum()==0:\n",
    "                    bionica_indirect.flip_weights(j)\n",
    "                if bionica_direct_Y[j,0:i_sample].sum()==0:\n",
    "                    bionica_direct.flip_weights(j)\n",
    "                if nsm_Y[j,0:i_sample].sum()==0:\n",
    "                    nsm.flip_weights(j)\n",
    "                if npca_Y[j,0:i_sample].sum()==0:\n",
    "                    npca.flip_weights(j)\n",
    "        \n",
    "    print('Computing errors...')\n",
    "\n",
    "    bionica_indirect_err[i_trial,:] = permutation_error(S[:,idx],bionica_indirect_Y)\n",
    "    bionica_direct_err[i_trial,:] = permutation_error(S[:,idx],bionica_direct_Y)\n",
    "    nsm_err[i_trial,:] = permutation_error(S[:,idx],nsm_Y)\n",
    "    npca_err[i_trial,:] = permutation_error(S[:,idx],npca_Y)\n",
    "\n",
    "    print(f'Final Bio-NICA (indirect) permutation error: {bionica_indirect_err[i_trial,-1]}')\n",
    "    print(f'Final Bio-NICA (direct) permutation error: {bionica_direct_err[i_trial,-1]}')\n",
    "    print(f'Final 2-layer NSM permutation error: {nsm_err[i_trial,-1]}')\n",
    "    print(f'Final Nonnegative PCA permutation error: {npca_err[i_trial,-1]}')"
   ]
  },
  {
   "cell_type": "markdown",
   "metadata": {},
   "source": [
    "### Comparison plots"
   ]
  },
  {
   "cell_type": "code",
   "execution_count": 22,
   "metadata": {},
   "outputs": [
    {
     "data": {
      "image/png": "[encoded data removed]",
      "text/plain": [
       "<Figure size 360x360 with 1 Axes>"
      ]
     },
     "metadata": {
      "needs_background": "light"
     },
     "output_type": "display_data"
    }
   ],
   "source": [
    "linewidth = 3\n",
    "\n",
    "t = list(range(samples))\n",
    "\n",
    "fig = plt.figure(figsize=(5,5))\n",
    "\n",
    "ax = plt.subplot(1, 1, 1)\n",
    "\n",
    "add_fill_lines(ax, t, bionica_indirect_err, plot_kwargs={'ls': '-', 'lw': linewidth, 'label': 'Bio-NICA (interneurons)'})\n",
    "add_fill_lines(ax, t, bionica_direct_err, plot_kwargs={'ls': '--', 'lw': linewidth, 'label': 'Bio-NICA (2-compart. neurons)'})\n",
    "add_fill_lines(ax, t, nsm_err, plot_kwargs={'ls': '-.', 'lw': linewidth, 'label': '2-layer NSM'})\n",
    "add_fill_lines(ax, t, npca_err, plot_kwargs={'ls': ':', 'lw': linewidth, 'label': 'Nonnegative PCA'})\n",
    "\n",
    "ax.loglog()\n",
    "\n",
    "plt.title(f\"{s_dim}-dimensional source data\")\n",
    "plt.grid()\n",
    "plt.legend(loc = 'lower left')\n",
    "plt.xlabel('Sample #')\n",
    "plt.ylabel('Permutation error')\n",
    "plt.xlim((1e2,samples))\n",
    "plt.ylim(bottom=10**-3.5,)\n",
    "# plt.ylim(10**-2.5,10**1)\n",
    "\n",
    "plt.savefig(f'plots/{dataset}.png', dpi=300, transparent='true', bbox_inches='tight')\n",
    "# plt.show()"
   ]
  },
  {
   "cell_type": "code",
   "execution_count": null,
   "metadata": {},
   "outputs": [],
   "source": []
  }
 ],
 "metadata": {
  "kernelspec": {
   "display_name": "Python 3",
   "language": "python",
   "name": "python3"
  },
  "language_info": {
   "codemirror_mode": {
    "name": "ipython",
    "version": 3
   },
   "file_extension": ".py",
   "mimetype": "text/x-python",
   "name": "python",
   "nbconvert_exporter": "python",
   "pygments_lexer": "ipython3",
   "version": "3.7.6"
  }
 },
 "nbformat": 4,
 "nbformat_minor": 4
}
