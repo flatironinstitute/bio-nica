{
 "cells": [
  {
   "cell_type": "markdown",
   "metadata": {},
   "source": [
    "# Comparison of online NICA algorithms on synthetic sparse uniform sources"
   ]
  },
  {
   "cell_type": "markdown",
   "metadata": {},
   "source": [
    "### Imports"
   ]
  },
  {
   "cell_type": "code",
   "execution_count": 1,
   "metadata": {},
   "outputs": [],
   "source": [
    "import numpy as np\n",
    "import matplotlib.pyplot as plt\n",
    "\n",
    "from nica_algorithms import bio_nica, bio_nica_indirect, two_layer_nsm, nonnegative_pca\n",
    "from util import permutation_error, add_fill_lines"
   ]
  },
  {
   "cell_type": "markdown",
   "metadata": {},
   "source": [
    "### Load desired dataset"
   ]
  },
  {
   "cell_type": "code",
   "execution_count": 6,
   "metadata": {},
   "outputs": [],
   "source": [
    "# dataset = '3-dim_synthetic'\n",
    "dataset = '10-dim_synthetic'\n",
    "\n",
    "S = np.load(f'datasets/{dataset}/sources.npy')\n",
    "X = np.load(f'datasets/{dataset}/mixtures.npy')\n",
    "\n",
    "s_dim = S.shape[0]\n",
    "x_dim = X.shape[0]\n",
    "samples = S.shape[1]"
   ]
  },
  {
   "cell_type": "markdown",
   "metadata": {},
   "source": [
    "### Online algorithms"
   ]
  },
  {
   "cell_type": "code",
   "execution_count": 7,
   "metadata": {},
   "outputs": [],
   "source": [
    "trials = 10 # set the number of trials\n",
    "\n",
    "bionica_err = np.zeros((trials,samples))\n",
    "bionica_indirect_err = np.zeros((trials,samples))\n",
    "nsm_err = np.zeros((trials,samples))\n",
    "npca_err = np.zeros((trials,samples))"
   ]
  },
  {
   "cell_type": "code",
   "execution_count": 8,
   "metadata": {},
   "outputs": [
    {
     "name": "stdout",
     "output_type": "stream",
     "text": [
      "Trial 1 of out 10:\n",
      "Running online algorithms...\n",
      "Computing errors...\n",
      "Final Bio-NICA permutation error: 0.11739939679483241\n",
      "Final Bio-NICA indirect permutation error: 0.12889373261619388\n",
      "Final 2-layer NSM permutation error: 0.004227108374702926\n",
      "Final Nonnegative PCA permutation error: 0.010072056444549518\n",
      "Trial 2 of out 10:\n",
      "Running online algorithms...\n",
      "Computing errors...\n",
      "Final Bio-NICA permutation error: 0.14770739929761917\n",
      "Final Bio-NICA indirect permutation error: 0.48568452210507923\n",
      "Final 2-layer NSM permutation error: 0.007664819437342869\n",
      "Final Nonnegative PCA permutation error: 0.011854058553441018\n",
      "Trial 3 of out 10:\n",
      "Running online algorithms...\n",
      "Computing errors...\n",
      "Final Bio-NICA permutation error: 0.12149872048873771\n",
      "Final Bio-NICA indirect permutation error: 0.40957857508993273\n",
      "Final 2-layer NSM permutation error: 0.08121593867488741\n",
      "Final Nonnegative PCA permutation error: 0.014844921751671509\n",
      "Trial 4 of out 10:\n",
      "Running online algorithms...\n",
      "Computing errors...\n",
      "Final Bio-NICA permutation error: 0.08148926011278813\n",
      "Final Bio-NICA indirect permutation error: 0.17016597502735958\n",
      "Final 2-layer NSM permutation error: 0.030014057667178084\n",
      "Final Nonnegative PCA permutation error: 0.007426258205262805\n",
      "Trial 5 of out 10:\n",
      "Running online algorithms...\n",
      "Computing errors...\n",
      "Final Bio-NICA permutation error: 0.20938695210130273\n",
      "Final Bio-NICA indirect permutation error: 0.5713004283093435\n",
      "Final 2-layer NSM permutation error: 0.058591077775386316\n",
      "Final Nonnegative PCA permutation error: 0.02281539317353812\n",
      "Trial 6 of out 10:\n",
      "Running online algorithms...\n",
      "Computing errors...\n",
      "Final Bio-NICA permutation error: 0.14219267212573578\n",
      "Final Bio-NICA indirect permutation error: 0.3214540001547249\n",
      "Final 2-layer NSM permutation error: 0.008218420272903433\n",
      "Final Nonnegative PCA permutation error: 0.02188925292680452\n",
      "Trial 7 of out 10:\n",
      "Running online algorithms...\n",
      "Computing errors...\n",
      "Final Bio-NICA permutation error: 0.1099784537337\n",
      "Final Bio-NICA indirect permutation error: 0.26311367491745885\n",
      "Final 2-layer NSM permutation error: 0.0037191954372764436\n",
      "Final Nonnegative PCA permutation error: 0.00898245219148486\n",
      "Trial 8 of out 10:\n",
      "Running online algorithms...\n",
      "Computing errors...\n",
      "Final Bio-NICA permutation error: 0.12004860505107931\n",
      "Final Bio-NICA indirect permutation error: 0.15351846868206212\n",
      "Final 2-layer NSM permutation error: 0.0076011898694818645\n",
      "Final Nonnegative PCA permutation error: 0.0052006877662634935\n",
      "Trial 9 of out 10:\n",
      "Running online algorithms...\n",
      "Computing errors...\n",
      "Final Bio-NICA permutation error: 0.07959445425940294\n",
      "Final Bio-NICA indirect permutation error: 0.21216714840168144\n",
      "Final 2-layer NSM permutation error: 0.004892963399811655\n",
      "Final Nonnegative PCA permutation error: 0.014924619897405797\n",
      "Trial 10 of out 10:\n",
      "Running online algorithms...\n",
      "Computing errors...\n",
      "Final Bio-NICA permutation error: 0.28855326897867184\n",
      "Final Bio-NICA indirect permutation error: 0.08597452006377068\n",
      "Final 2-layer NSM permutation error: 0.020504209264230574\n",
      "Final Nonnegative PCA permutation error: 0.02178203316165653\n"
     ]
    }
   ],
   "source": [
    "for i_trial in range(trials):\n",
    "    \n",
    "    print(f'Trial {i_trial+1} of out {trials}:')\n",
    "    \n",
    "    # Random permutation of the mixtures\n",
    "\n",
    "    idx = np.random.permutation(samples)\n",
    "    \n",
    "    # Noncentered whitening for Nonnegative PCA\n",
    "\n",
    "    sig, U = np.linalg.eig(np.cov(X))\n",
    "\n",
    "    X_white = U@np.diag(1./np.sqrt(sig))@U.T@X\n",
    "    \n",
    "    n_dim = s_dim\n",
    "    \n",
    "    bionica = bio_nica(s_dim, x_dim, dataset)\n",
    "    bionica_indirect = bio_nica_indirect(s_dim, x_dim, n_dim, eta0=1e-2, decay=1e-3, tau=0.5)\n",
    "    nsm = two_layer_nsm(s_dim, x_dim, dataset)\n",
    "    npca = nonnegative_pca(s_dim, x_dim, dataset)\n",
    "    \n",
    "    bionica_Y = np.zeros((s_dim,samples))\n",
    "    bionica_indirect_Y = np.zeros((s_dim,samples))\n",
    "    nsm_Y = np.zeros((s_dim,samples))\n",
    "    npca_Y = np.zeros((s_dim,samples))\n",
    "    \n",
    "    print('Running online algorithms...')\n",
    "    \n",
    "    for i_sample in range(samples):\n",
    "\n",
    "        x = X[:,idx[i_sample]]\n",
    "        x_white = X_white[:,idx[i_sample]]\n",
    "        \n",
    "        bionica_Y[:,i_sample] = bionica.fit_next(x)\n",
    "        bionica_indirect_Y[:,i_sample] = bionica_indirect.fit_next(x)\n",
    "        nsm_Y[:,i_sample] = nsm.fit_next(x)\n",
    "        npca_Y[:,i_sample] = npca.fit_next(x_white)\n",
    "        \n",
    "        # if a neuron hasn't fired by the 100th iteration, we flip the feedforward weights:\n",
    "        \n",
    "        if i_sample==100:\n",
    "            for j in range(s_dim):\n",
    "                if bionica_Y[j,0:i_sample].sum()==0:\n",
    "                    bionica.flip_weights(j)\n",
    "                if bionica_indirect_Y[j,0:i_sample].sum()==0:\n",
    "                    print('Flip')\n",
    "                    bionica_indirect.flip_weights(j)\n",
    "                if nsm_Y[j,0:i_sample].sum()==0:\n",
    "                    nsm.flip_weights(j)\n",
    "                if npca_Y[j,0:i_sample].sum()==0:\n",
    "                    npca.flip_weights(j)\n",
    "        \n",
    "    print('Computing errors...')\n",
    "\n",
    "    bionica_err[i_trial,:] = permutation_error(S[:,idx],bionica_Y)\n",
    "    bionica_indirect_err[i_trial,:] = permutation_error(S[:,idx],bionica_indirect_Y)\n",
    "    nsm_err[i_trial,:] = permutation_error(S[:,idx],nsm_Y)\n",
    "    npca_err[i_trial,:] = permutation_error(S[:,idx],npca_Y)\n",
    "\n",
    "    print(f'Final Bio-NICA permutation error: {bionica_err[i_trial,-1]}')\n",
    "    print(f'Final Bio-NICA indirect permutation error: {bionica_indirect_err[i_trial,-1]}')\n",
    "    print(f'Final 2-layer NSM permutation error: {nsm_err[i_trial,-1]}')\n",
    "    print(f'Final Nonnegative PCA permutation error: {npca_err[i_trial,-1]}')"
   ]
  },
  {
   "cell_type": "markdown",
   "metadata": {},
   "source": [
    "### Comparison plots"
   ]
  },
  {
   "cell_type": "code",
   "execution_count": 9,
   "metadata": {},
   "outputs": [
    {
     "data": {
      "image/png": "[encoded data removed]",
      "text/plain": [
       "<Figure size 360x360 with 1 Axes>"
      ]
     },
     "metadata": {
      "needs_background": "light"
     },
     "output_type": "display_data"
    }
   ],
   "source": [
    "linewidth = 3\n",
    "\n",
    "t = list(range(samples))\n",
    "\n",
    "fig = plt.figure(figsize=(5,5))\n",
    "\n",
    "ax = plt.subplot(1, 1, 1)\n",
    "\n",
    "add_fill_lines(ax, t, bionica_err, plot_kwargs={'ls': '-', 'lw': linewidth, 'label': 'Bio-NICA (direct)'})\n",
    "add_fill_lines(ax, t, bionica_indirect_err, plot_kwargs={'ls': '--', 'lw': linewidth, 'label': 'Bio-NICA (indirect)'})\n",
    "add_fill_lines(ax, t, nsm_err, plot_kwargs={'ls': '-.', 'lw': linewidth, 'label': '2-layer NSM'})\n",
    "add_fill_lines(ax, t, npca_err, plot_kwargs={'ls': ':', 'lw': linewidth, 'label': 'Nonnegative PCA'})\n",
    "\n",
    "ax.loglog()\n",
    "\n",
    "plt.title(f\"{s_dim}-dimensional source data\")\n",
    "plt.grid()\n",
    "plt.legend(loc = 'lower left')\n",
    "plt.xlabel('Sample #')\n",
    "plt.ylabel('Permutation error')\n",
    "plt.xlim((10,samples))\n",
    "# plt.ylim(bottom=10**-4,)\n",
    "plt.ylim(10**-3,10**.8)\n",
    "\n",
    "# plt.savefig(f'plots/{dataset}.png', dpi=300, transparent='true', bbox_inches='tight')\n",
    "plt.show()"
   ]
  },
  {
   "cell_type": "code",
   "execution_count": null,
   "metadata": {},
   "outputs": [],
   "source": []
  }
 ],
 "metadata": {
  "kernelspec": {
   "display_name": "Python 3",
   "language": "python",
   "name": "python3"
  },
  "language_info": {
   "codemirror_mode": {
    "name": "ipython",
    "version": 3
   },
   "file_extension": ".py",
   "mimetype": "text/x-python",
   "name": "python",
   "nbconvert_exporter": "python",
   "pygments_lexer": "ipython3",
   "version": "3.7.6"
  }
 },
 "nbformat": 4,
 "nbformat_minor": 4
}
